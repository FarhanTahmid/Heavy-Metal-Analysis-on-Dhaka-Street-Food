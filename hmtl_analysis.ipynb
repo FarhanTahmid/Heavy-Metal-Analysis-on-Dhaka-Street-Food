{
 "cells": [
  {
   "cell_type": "markdown",
   "id": "137f8cf5",
   "metadata": {},
   "source": [
    "# Import required libraries"
   ]
  },
  {
   "cell_type": "code",
   "execution_count": 1,
   "id": "e1af8b23",
   "metadata": {},
   "outputs": [],
   "source": [
    "import pandas as pd\n",
    "import numpy as np\n",
    "import matplotlib.pyplot as plt"
   ]
  },
  {
   "cell_type": "markdown",
   "id": "f1304457",
   "metadata": {},
   "source": [
    "# Read Datasheet"
   ]
  },
  {
   "cell_type": "code",
   "execution_count": 2,
   "id": "e7f3aecb",
   "metadata": {},
   "outputs": [],
   "source": [
    "# Read the Fuchka sheet\n",
    "fuchka_df = pd.read_excel('HMTL Datasheet.xlsx', sheet_name='Fuchka')\n",
    "\n",
    "# Read the Tamarind sheet  \n",
    "tamarind_df = pd.read_excel('HMTL Datasheet.xlsx', sheet_name='Tamarind')\n"
   ]
  },
  {
   "cell_type": "code",
   "execution_count": 3,
   "id": "373f45b2",
   "metadata": {},
   "outputs": [],
   "source": [
    "# Read the Hazard Intensity Scores\n",
    "his_df = pd.read_excel('HMTL Datasheet.xlsx', sheet_name='Intensity Score')"
   ]
  },
  {
   "cell_type": "code",
   "execution_count": 4,
   "id": "eaaac5a7",
   "metadata": {},
   "outputs": [
    {
     "name": "stdout",
     "output_type": "stream",
     "text": [
      "Data loaded successfully!\n",
      "Fuchka shape: (42, 11)\n",
      "Tamarind shape: (42, 13)\n",
      "HIS shape: (12, 2)\n"
     ]
    }
   ],
   "source": [
    "print(\"Data loaded successfully!\")\n",
    "print(f\"Fuchka shape: {fuchka_df.shape}\")\n",
    "print(f\"Tamarind shape: {tamarind_df.shape}\")\n",
    "print(f\"HIS shape: {his_df.shape}\")"
   ]
  },
  {
   "cell_type": "markdown",
   "id": "e81a59c6",
   "metadata": {},
   "source": [
    "### Load Hazard Intensity Scores"
   ]
  },
  {
   "cell_type": "code",
   "execution_count": 5,
   "id": "57026426",
   "metadata": {},
   "outputs": [
    {
     "name": "stdout",
     "output_type": "stream",
     "text": [
      "Hazard Intensity Scores:\n",
      "{'As': 1675, 'Pb': 1531, 'Hg': 1455, 'Cd': 1317, 'Cr': 892, 'Co': 1015, 'Ni': 994, 'Zn': 916, 'Cu': 807, 'Mn': 799, 'Al': 685, 'Sb': 604}\n"
     ]
    }
   ],
   "source": [
    "# Create a dictionary of Metal → HIS for easy lookup\n",
    "his_dict = dict(zip(his_df['Metal'], his_df['Hazard Intensity Score']))\n",
    "print(\"Hazard Intensity Scores:\")\n",
    "print(his_dict)"
   ]
  },
  {
   "cell_type": "markdown",
   "id": "e8d2d87d",
   "metadata": {},
   "source": [
    "# Inspect and clean data"
   ]
  },
  {
   "cell_type": "code",
   "execution_count": 6,
   "id": "cb423120",
   "metadata": {},
   "outputs": [
    {
     "name": "stdout",
     "output_type": "stream",
     "text": [
      "=== Fuchka Data (first 5 rows) ===\n",
      "   Sample ID       Pb     Cd      Cr     Hg     Co      Ni        Al       Cu  \\\n",
      "0          1  1790.62  48.04  141.16  0.550  53.86  462.26  21126.69  1400.48   \n",
      "1          2    86.32   1.00   10.00  4.710  10.00   10.00   4269.81  1266.94   \n",
      "2          3  1190.14  29.58  101.52  4.344  47.18  317.98   8444.97  1386.72   \n",
      "3          4    10.00   1.00  142.34  0.550  60.34  233.06   6107.98  1354.14   \n",
      "4          5    10.00   1.00  116.78  0.550  57.06  261.96   3461.49  1222.76   \n",
      "\n",
      "        Zn       Mn  \n",
      "0  4391.82  6275.88  \n",
      "1  5395.86  6087.30  \n",
      "2  5232.78  5352.08  \n",
      "3  6348.70  7407.26  \n",
      "4  4742.80  5631.78  \n",
      "\n",
      "Fuchka columns: ['Sample ID', 'Pb', 'Cd', 'Cr', 'Hg', 'Co', 'Ni', 'Al', 'Cu', 'Zn', 'Mn']\n",
      "\n",
      "=== Tamarind Data (first 5 rows) ===\n",
      "   Sample ID         Pb       Cd        Cr       Hg      Co       Ni  \\\n",
      "0          1     1.2500   2.0475  18.86625  0.37500  4.1675  21.9550   \n",
      "1          2     1.2500  13.3380  37.70625  0.37500  1.2500   1.2500   \n",
      "2          3     1.2500   1.8720  68.57625  0.37500  5.5950  20.0025   \n",
      "3          4     1.2500   6.4350  14.78875  0.37500  1.2500   5.6875   \n",
      "4          5  2689.8975   7.8000  24.04875  1.01275  3.0250  52.7925   \n",
      "\n",
      "           Al        Cu        Zn         Mn     Sb       As  \n",
      "0  2849.26625  342.6425  408.7250  2189.7475   0.00  17.6150  \n",
      "1  2244.35750  339.0900  250.0525  1097.1975   0.00   1.2500  \n",
      "2  5647.76750  466.3300  558.1450  1569.5975  60.11  91.1475  \n",
      "3  4057.42875  222.1325  446.5475  1237.5225   0.00   1.2500  \n",
      "4  2235.84000  150.3725  883.5125   407.4475   0.00   1.2500  \n",
      "\n",
      "Tamarind columns: ['Sample ID', 'Pb', 'Cd', 'Cr', 'Hg', 'Co', 'Ni', 'Al', 'Cu', 'Zn', 'Mn', 'Sb', 'As']\n"
     ]
    }
   ],
   "source": [
    "# Cell 4: Inspect and clean data\n",
    "print(\"=== Fuchka Data (first 5 rows) ===\")\n",
    "print(fuchka_df.head())\n",
    "print(\"\\nFuchka columns:\", fuchka_df.columns.tolist())\n",
    "\n",
    "print(\"\\n=== Tamarind Data (first 5 rows) ===\")\n",
    "print(tamarind_df.head())\n",
    "print(\"\\nTamarind columns:\", tamarind_df.columns.tolist())\n"
   ]
  },
  {
   "cell_type": "markdown",
   "id": "88ea6745",
   "metadata": {},
   "source": [
    "# Standardize column names and handle missing metals"
   ]
  },
  {
   "cell_type": "code",
   "execution_count": 7,
   "id": "4d73e492",
   "metadata": {},
   "outputs": [
    {
     "name": "stdout",
     "output_type": "stream",
     "text": [
      "Metals in Fuchka: ['Al', 'Cd', 'Co', 'Cr', 'Cu', 'Hg', 'Mn', 'Ni', 'Pb', 'Zn']\n",
      "Metals in Tamarind: ['Al', 'As', 'Cd', 'Co', 'Cr', 'Cu', 'Hg', 'Mn', 'Ni', 'Pb', 'Sb', 'Zn']\n",
      "All metals combined: ['Al', 'As', 'Cd', 'Co', 'Cr', 'Cu', 'Hg', 'Mn', 'Ni', 'Pb', 'Sb', 'Zn']\n"
     ]
    }
   ],
   "source": [
    "# Get all unique metals from both datasets\n",
    "fuchka_metals = set(fuchka_df.columns) - {'Sample ID'}\n",
    "tamarind_metals = set(tamarind_df.columns) - {'Sample ID'}\n",
    "all_metals = fuchka_metals.union(tamarind_metals)\n",
    "\n",
    "print(\"Metals in Fuchka:\", sorted(fuchka_metals))\n",
    "print(\"Metals in Tamarind:\", sorted(tamarind_metals))\n",
    "print(\"All metals combined:\", sorted(all_metals))\n"
   ]
  },
  {
   "cell_type": "code",
   "execution_count": 8,
   "id": "a490977c",
   "metadata": {},
   "outputs": [
    {
     "name": "stdout",
     "output_type": "stream",
     "text": [
      "Added As to Fuchka (filled with 0)\n",
      "Added Sb to Fuchka (filled with 0)\n"
     ]
    }
   ],
   "source": [
    "# Add missing metals as zero columns\n",
    "for metal in all_metals:\n",
    "    if metal not in fuchka_df.columns:\n",
    "        fuchka_df[metal] = 0\n",
    "        print(f\"Added {metal} to Fuchka (filled with 0)\")\n",
    "    if metal not in tamarind_df.columns:\n",
    "        tamarind_df[metal] = 0\n",
    "        print(f\"Added {metal} to Tamarind (filled with 0)\")\n"
   ]
  },
  {
   "cell_type": "code",
   "execution_count": 9,
   "id": "cb324467",
   "metadata": {},
   "outputs": [],
   "source": [
    "# Fill any NaN values with 0\n",
    "fuchka_df = fuchka_df.fillna(0)\n",
    "tamarind_df = tamarind_df.fillna(0)\n"
   ]
  },
  {
   "cell_type": "markdown",
   "id": "56796e25",
   "metadata": {},
   "source": [
    "# Merge into combined concentrations table"
   ]
  },
  {
   "cell_type": "code",
   "execution_count": 10,
   "id": "0cf95594",
   "metadata": {},
   "outputs": [],
   "source": [
    "# Ensure both dataframes have the same metal columns in same order\n",
    "metal_columns = sorted(all_metals)\n",
    "fuchka_ordered = fuchka_df[['Sample ID'] + metal_columns].copy()\n",
    "tamarind_ordered = tamarind_df[['Sample ID'] + metal_columns].copy()\n"
   ]
  },
  {
   "cell_type": "code",
   "execution_count": 11,
   "id": "b15e6c4f",
   "metadata": {},
   "outputs": [],
   "source": [
    "# Create combined dataframe\n",
    "combined_df = pd.DataFrame()\n",
    "combined_df['Sample ID'] = fuchka_ordered['Sample ID']\n"
   ]
  },
  {
   "cell_type": "markdown",
   "id": "9fed7df2",
   "metadata": {},
   "source": [
    "# Attach HIS to combined table and compute weighted contributions"
   ]
  },
  {
   "cell_type": "code",
   "execution_count": 12,
   "id": "6c847c27",
   "metadata": {},
   "outputs": [
    {
     "name": "stdout",
     "output_type": "stream",
     "text": [
      "Combined concentrations table created!\n",
      "Combined table shape: (42, 13)\n",
      "\n",
      "First 5 rows of combined data:\n",
      "   Sample ID  Combined_Al  Combined_As  Combined_Cd  Combined_Co  Combined_Cr  \\\n",
      "0          1  23975.95625      17.6150      50.0875      58.0275    160.02625   \n",
      "1          2   6514.16750       1.2500      14.3380      11.2500     47.70625   \n",
      "2          3  14092.73750      91.1475      31.4520      52.7750    170.09625   \n",
      "3          4  10165.40875       1.2500       7.4350      61.5900    157.12875   \n",
      "4          5   5697.33000       1.2500       8.8000      60.0850    140.82875   \n",
      "\n",
      "   Combined_Cu  Combined_Hg  Combined_Mn  Combined_Ni  Combined_Pb  \\\n",
      "0    1743.1225      0.92500    8465.6275     484.2150    1791.8700   \n",
      "1    1606.0300      5.08500    7184.4975      11.2500      87.5700   \n",
      "2    1853.0500      4.71900    6921.6775     337.9825    1191.3900   \n",
      "3    1576.2725      0.92500    8644.7825     238.7475      11.2500   \n",
      "4    1373.1325      1.56275    6039.2275     314.7525    2699.8975   \n",
      "\n",
      "   Combined_Sb  Combined_Zn  \n",
      "0         0.00    4800.5450  \n",
      "1         0.00    5645.9125  \n",
      "2        60.11    5790.9250  \n",
      "3         0.00    6795.2475  \n",
      "4         0.00    5626.3125  \n"
     ]
    }
   ],
   "source": [
    "# Compute combined concentrations for each metal\n",
    "for metal in metal_columns:\n",
    "    combined_df[f'Combined_{metal}'] = fuchka_ordered[metal] + tamarind_ordered[metal]\n",
    "\n",
    "print(\"Combined concentrations table created!\")\n",
    "print(f\"Combined table shape: {combined_df.shape}\")\n",
    "print(\"\\nFirst 5 rows of combined data:\")\n",
    "print(combined_df.head())\n"
   ]
  },
  {
   "cell_type": "code",
   "execution_count": 13,
   "id": "e46f14ed",
   "metadata": {},
   "outputs": [
    {
     "name": "stdout",
     "output_type": "stream",
     "text": [
      "Computed contribution for Al (HIS: 685)\n",
      "Computed contribution for As (HIS: 1675)\n",
      "Computed contribution for Cd (HIS: 1317)\n",
      "Computed contribution for Co (HIS: 1015)\n",
      "Computed contribution for Cr (HIS: 892)\n",
      "Computed contribution for Cu (HIS: 807)\n",
      "Computed contribution for Hg (HIS: 1455)\n",
      "Computed contribution for Mn (HIS: 799)\n",
      "Computed contribution for Ni (HIS: 994)\n",
      "Computed contribution for Pb (HIS: 1531)\n",
      "Computed contribution for Sb (HIS: 604)\n",
      "Computed contribution for Zn (HIS: 916)\n"
     ]
    }
   ],
   "source": [
    "# Compute contribution for each metal\n",
    "for metal in metal_columns:\n",
    "    if metal in his_dict:\n",
    "        his_value = his_dict[metal]\n",
    "        combined_df[f'Contribution_{metal}'] = combined_df[f'Combined_{metal}'] * his_value\n",
    "        print(f\"Computed contribution for {metal} (HIS: {his_value})\")\n",
    "    else:\n",
    "        print(f\"Warning: No HIS found for {metal}, skipping contribution calculation\")\n"
   ]
  },
  {
   "cell_type": "markdown",
   "id": "db1cbcd1",
   "metadata": {},
   "source": [
    "# Sum across metals for final HMTL"
   ]
  },
  {
   "cell_type": "code",
   "execution_count": 14,
   "id": "1da3138b",
   "metadata": {},
   "outputs": [
    {
     "name": "stdout",
     "output_type": "stream",
     "text": [
      "Contribution columns: ['Contribution_Al', 'Contribution_As', 'Contribution_Cd', 'Contribution_Co', 'Contribution_Cr', 'Contribution_Cu', 'Contribution_Hg', 'Contribution_Mn', 'Contribution_Ni', 'Contribution_Pb', 'Contribution_Sb', 'Contribution_Zn']\n"
     ]
    }
   ],
   "source": [
    "# Get all contribution columns\n",
    "contribution_columns = [col for col in combined_df.columns if col.startswith('Contribution_')]\n",
    "print(f\"Contribution columns: {contribution_columns}\")"
   ]
  },
  {
   "cell_type": "code",
   "execution_count": 15,
   "id": "79e95a28",
   "metadata": {},
   "outputs": [
    {
     "name": "stdout",
     "output_type": "stream",
     "text": [
      "HMTL calculation completed!\n"
     ]
    }
   ],
   "source": [
    "# Calculate HMTL as sum of all contributions\n",
    "combined_df['HMTL_co_consumed'] = combined_df[contribution_columns].sum(axis=1)\n",
    "\n",
    "print(\"HMTL calculation completed!\")\n"
   ]
  },
  {
   "cell_type": "code",
   "execution_count": 16,
   "id": "6ffa7f03",
   "metadata": {},
   "outputs": [
    {
     "name": "stdout",
     "output_type": "stream",
     "text": [
      "=== HMTL Results (first 10 rows) ===\n",
      "   Sample ID  HMTL_co_consumed\n",
      "0          1      3.251469e+07\n",
      "1          2      1.689794e+07\n",
      "2          3      2.458638e+07\n",
      "3          4      2.183743e+07\n",
      "4          5      1.963880e+07\n",
      "5          6      2.489137e+07\n",
      "6          7      1.665091e+07\n",
      "7          8      2.633374e+07\n",
      "8          9      2.285608e+07\n",
      "9         10      1.881723e+07\n",
      "\n",
      "=== Summary Statistics for HMTL ===\n",
      "count    4.200000e+01\n",
      "mean     3.658227e+07\n",
      "std      1.568157e+07\n",
      "min      1.665091e+07\n",
      "25%      2.369888e+07\n",
      "50%      3.514728e+07\n",
      "75%      4.728467e+07\n",
      "max      7.982923e+07\n",
      "Name: HMTL_co_consumed, dtype: float64\n",
      "\n",
      "Minimum HMTL: 16650905.89\n",
      "Maximum HMTL: 79829228.04\n",
      "Mean HMTL: 36582272.34\n"
     ]
    }
   ],
   "source": [
    "print(\"=== HMTL Results (first 10 rows) ===\")\n",
    "results_display = combined_df[['Sample ID', 'HMTL_co_consumed']].head(10)\n",
    "print(results_display)\n",
    "\n",
    "print(\"\\n=== Summary Statistics for HMTL ===\")\n",
    "print(combined_df['HMTL_co_consumed'].describe())\n",
    "\n",
    "print(f\"\\nMinimum HMTL: {combined_df['HMTL_co_consumed'].min():.2f}\")\n",
    "print(f\"Maximum HMTL: {combined_df['HMTL_co_consumed'].max():.2f}\")\n",
    "print(f\"Mean HMTL: {combined_df['HMTL_co_consumed'].mean():.2f}\")\n"
   ]
  },
  {
   "cell_type": "markdown",
   "id": "5d732f24",
   "metadata": {},
   "source": [
    "### Save output"
   ]
  },
  {
   "cell_type": "code",
   "execution_count": 17,
   "id": "9629980d",
   "metadata": {},
   "outputs": [
    {
     "name": "stdout",
     "output_type": "stream",
     "text": [
      "Complete results saved to HMTL_Results.xlsx\n"
     ]
    }
   ],
   "source": [
    "# Save complete results to Excel\n",
    "output_filename = 'HMTL_Results.xlsx'\n",
    "combined_df.to_excel(output_filename, index=False, sheet_name='HMTL_Results')\n",
    "print(f\"Complete results saved to {output_filename}\")\n"
   ]
  },
  {
   "cell_type": "code",
   "execution_count": 18,
   "id": "216b51ef",
   "metadata": {},
   "outputs": [
    {
     "data": {
      "image/png": "[encoded data removed]",
      "text/plain": [
       "<Figure size 1000x600 with 1 Axes>"
      ]
     },
     "metadata": {},
     "output_type": "display_data"
    },
    {
     "name": "stdout",
     "output_type": "stream",
     "text": [
      "Analysis completed successfully!\n"
     ]
    }
   ],
   "source": [
    "plt.figure(figsize=(10, 6))\n",
    "plt.hist(combined_df['HMTL_co_consumed'], bins=20, edgecolor='black', alpha=0.7)\n",
    "plt.title('Distribution of HMTL Values')\n",
    "plt.xlabel('HMTL Co-consumed')\n",
    "plt.ylabel('Frequency')\n",
    "plt.grid(axis='y', alpha=0.3)\n",
    "plt.show()\n",
    "\n",
    "print(\"Analysis completed successfully!\")"
   ]
  }
 ],
 "metadata": {
  "kernelspec": {
   "display_name": ".venv",
   "language": "python",
   "name": "python3"
  },
  "language_info": {
   "codemirror_mode": {
    "name": "ipython",
    "version": 3
   },
   "file_extension": ".py",
   "mimetype": "text/x-python",
   "name": "python",
   "nbconvert_exporter": "python",
   "pygments_lexer": "ipython3",
   "version": "3.10.11"
  }
 },
 "nbformat": 4,
 "nbformat_minor": 5
}
