{
 "cells": [
  {
   "cell_type": "code",
   "execution_count": 13,
   "id": "d3160087",
   "metadata": {},
   "outputs": [],
   "source": [
    "import pandas as pd\n",
    "import numpy as np\n",
    "import matplotlib.pyplot as plt"
   ]
  },
  {
   "cell_type": "code",
   "execution_count": 14,
   "id": "8607f19b",
   "metadata": {},
   "outputs": [
    {
     "name": "stdout",
     "output_type": "stream",
     "text": [
      "Data loaded successfully!\n",
      "Data shape: (42, 13)\n",
      "\n",
      "First 5 rows:\n",
      "   Sample ID         Pb       Cd        Cr       Hg      Co       Ni  \\\n",
      "0          1     1.2500   2.0475  18.86625  0.37500  4.1675  21.9550   \n",
      "1          2     1.2500  13.3380  37.70625  0.37500  1.2500   1.2500   \n",
      "2          3     1.2500   1.8720  68.57625  0.37500  5.5950  20.0025   \n",
      "3          4     1.2500   6.4350  14.78875  0.37500  1.2500   5.6875   \n",
      "4          5  2689.8975   7.8000  24.04875  1.01275  3.0250  52.7925   \n",
      "\n",
      "           Al          Fe        Cu        Zn         Mn       As  \n",
      "0  2849.26625   9219.2975  342.6425  408.7250  2189.7475  17.6150  \n",
      "1  2244.35750   8062.3800  339.0900  250.0525  1097.1975   1.2500  \n",
      "2  5647.76750  11449.1825  466.3300  558.1450  1569.5975  91.1475  \n",
      "3  4057.42875  11744.1975  222.1325  446.5475  1237.5225   1.2500  \n",
      "4  2235.84000   2770.1975  150.3725  883.5125   407.4475   1.2500  \n"
     ]
    }
   ],
   "source": [
    "# Read the data from Sheet1 (which contains the metal concentration data)\n",
    "df = pd.read_excel(\"HPI_Datasheet.xlsx\", sheet_name=\"Sheet1\")\n",
    "print(\"Data loaded successfully!\")\n",
    "print(f\"Data shape: {df.shape}\")\n",
    "print(\"\\nFirst 5 rows:\")\n",
    "print(df.head())"
   ]
  },
  {
   "cell_type": "code",
   "execution_count": 15,
   "id": "aff618f4",
   "metadata": {},
   "outputs": [
    {
     "name": "stdout",
     "output_type": "stream",
     "text": [
      "\n",
      "Standards data:\n",
      "  Metal    Si    Ii  Reference\n",
      "0    Mn   400   100        NaN\n",
      "1    Fe   300   200        NaN\n",
      "2    Co   100    50        NaN\n",
      "3    Cu  2000  1000        NaN\n",
      "4    Zn  3000  1000        NaN\n"
     ]
    }
   ],
   "source": [
    "# Read the standards from Sheet2\n",
    "standards_sheet = pd.read_excel(\"HPI_Datasheet.xlsx\", sheet_name=\"Sheet2\")\n",
    "print(\"\\nStandards data:\")\n",
    "print(standards_sheet.head())"
   ]
  },
  {
   "cell_type": "code",
   "execution_count": 16,
   "id": "2b8d360a",
   "metadata": {},
   "outputs": [
    {
     "name": "stdout",
     "output_type": "stream",
     "text": [
      "\n",
      "Standards DataFrame:\n",
      "         Si    Ii\n",
      "Metal            \n",
      "Mn      400   100\n",
      "Fe      300   200\n",
      "Co      100    50\n",
      "Cu     2000  1000\n",
      "Zn     3000  1000\n",
      "As       50    10\n",
      "Hg        6     2\n",
      "Ni       70    20\n",
      "Cd        5     3\n",
      "Pb       50    10\n",
      "Cr      100    50\n",
      "Al      200    50\n"
     ]
    }
   ],
   "source": [
    "# Create standards DataFrame from the Excel data\n",
    "standards_df = standards_sheet.set_index('Metal')[['Si', 'Ii']]\n",
    "print(\"\\nStandards DataFrame:\")\n",
    "print(standards_df)"
   ]
  },
  {
   "cell_type": "code",
   "execution_count": 17,
   "id": "64187067",
   "metadata": {},
   "outputs": [
    {
     "name": "stdout",
     "output_type": "stream",
     "text": [
      "\n",
      "Data columns: ['Sample ID', 'Pb', 'Cd', 'Cr', 'Hg', 'Co', 'Ni', 'Al', 'Fe', 'Cu', 'Zn', 'Mn', 'As']\n",
      "\n",
      "Standards metals: ['Mn', 'Fe', 'Co', 'Cu', 'Zn', 'As', 'Hg', 'Ni', 'Cd', 'Pb', 'Cr', 'Al']\n",
      "\n",
      "Available metals for HPI calculation: ['Mn', 'Fe', 'Co', 'Cu', 'Zn', 'As', 'Hg', 'Ni', 'Cd', 'Pb', 'Cr', 'Al']\n"
     ]
    }
   ],
   "source": [
    "print(\"\\nData columns:\", df.columns.tolist())\n",
    "print(\"\\nStandards metals:\", standards_df.index.tolist())\n",
    "\n",
    "# Check which metals are available in both datasets\n",
    "available_metals = [metal for metal in standards_df.index if metal in df.columns]\n",
    "print(f\"\\nAvailable metals for HPI calculation: {available_metals}\")\n"
   ]
  },
  {
   "cell_type": "code",
   "execution_count": 18,
   "id": "73a5138e",
   "metadata": {},
   "outputs": [
    {
     "name": "stdout",
     "output_type": "stream",
     "text": [
      "Missing values filled with 0\n"
     ]
    }
   ],
   "source": [
    "# Fill any missing values with 0\n",
    "df = df.fillna(0)\n",
    "print(\"Missing values filled with 0\")"
   ]
  },
  {
   "cell_type": "code",
   "execution_count": 19,
   "id": "2e4dd4ab",
   "metadata": {},
   "outputs": [
    {
     "name": "stdout",
     "output_type": "stream",
     "text": [
      "\n",
      "Unit weights (Wi) calculated:\n",
      "         Si    Ii        Wi\n",
      "Metal                      \n",
      "Mn      400   100  0.002500\n",
      "Fe      300   200  0.003333\n",
      "Co      100    50  0.010000\n",
      "Cu     2000  1000  0.000500\n",
      "Zn     3000  1000  0.000333\n",
      "As       50    10  0.020000\n",
      "Hg        6     2  0.166667\n",
      "Ni       70    20  0.014286\n",
      "Cd        5     3  0.200000\n",
      "Pb       50    10  0.020000\n",
      "Cr      100    50  0.010000\n",
      "Al      200    50  0.005000\n"
     ]
    }
   ],
   "source": [
    "# Use the reciprocal of the standard limit\n",
    "standards_df[\"Wi\"] = 1.0 / standards_df[\"Si\"]\n",
    "print(\"\\nUnit weights (Wi) calculated:\")\n",
    "print(standards_df)"
   ]
  },
  {
   "cell_type": "code",
   "execution_count": 20,
   "id": "fddca580",
   "metadata": {},
   "outputs": [
    {
     "name": "stdout",
     "output_type": "stream",
     "text": [
      "Sub-index Q_Mn calculated\n",
      "Sub-index Q_Fe calculated\n",
      "Sub-index Q_Co calculated\n",
      "Sub-index Q_Cu calculated\n",
      "Sub-index Q_Zn calculated\n",
      "Sub-index Q_As calculated\n",
      "Sub-index Q_Hg calculated\n",
      "Sub-index Q_Ni calculated\n",
      "Sub-index Q_Cd calculated\n",
      "Sub-index Q_Pb calculated\n",
      "Sub-index Q_Cr calculated\n",
      "Sub-index Q_Al calculated\n",
      "\n",
      "Sub-indices calculated for 12 metals\n"
     ]
    }
   ],
   "source": [
    "# For each metal column M, compute: Qi = (Ci - Ii) / (Si - Ii) * 100\n",
    "for metal in available_metals:\n",
    "    Si, Ii = standards_df.loc[metal, [\"Si\", \"Ii\"]]\n",
    "    df[f\"Q_{metal}\"] = (df[metal] - Ii) / (Si - Ii) * 100\n",
    "    print(f\"Sub-index Q_{metal} calculated\")\n",
    "\n",
    "print(f\"\\nSub-indices calculated for {len(available_metals)} metals\")\n"
   ]
  },
  {
   "cell_type": "code",
   "execution_count": 21,
   "id": "8f7f8a98",
   "metadata": {},
   "outputs": [
    {
     "name": "stdout",
     "output_type": "stream",
     "text": [
      "Weighted sub-index WQ_Mn calculated\n",
      "Weighted sub-index WQ_Fe calculated\n",
      "Weighted sub-index WQ_Co calculated\n",
      "Weighted sub-index WQ_Cu calculated\n",
      "Weighted sub-index WQ_Zn calculated\n",
      "Weighted sub-index WQ_As calculated\n",
      "Weighted sub-index WQ_Hg calculated\n",
      "Weighted sub-index WQ_Ni calculated\n",
      "Weighted sub-index WQ_Cd calculated\n",
      "Weighted sub-index WQ_Pb calculated\n",
      "Weighted sub-index WQ_Cr calculated\n",
      "Weighted sub-index WQ_Al calculated\n",
      "\n",
      "Weighted sub-indices calculated for 12 metals\n"
     ]
    }
   ],
   "source": [
    "# Multiply each Q_<metal> by its Wi\n",
    "for metal in available_metals:\n",
    "    Wi = standards_df.loc[metal, \"Wi\"]\n",
    "    df[f\"WQ_{metal}\"] = df[f\"Q_{metal}\"] * Wi\n",
    "    print(f\"Weighted sub-index WQ_{metal} calculated\")\n",
    "\n",
    "print(f\"\\nWeighted sub-indices calculated for {len(available_metals)} metals\")\n"
   ]
  },
  {
   "cell_type": "code",
   "execution_count": 22,
   "id": "09a2b662",
   "metadata": {},
   "outputs": [
    {
     "name": "stdout",
     "output_type": "stream",
     "text": [
      "\n",
      "Total weight (sum of Wi): 0.452619\n",
      "HPI calculated successfully!\n"
     ]
    }
   ],
   "source": [
    "# Sum the weighted sub-indices and divide by total weight\n",
    "available_standards = standards_df.loc[available_metals]\n",
    "total_W = available_standards[\"Wi\"].sum()\n",
    "df[\"HPI\"] = df[[f\"WQ_{m}\" for m in available_metals]].sum(axis=1) / total_W\n",
    "\n",
    "print(f\"\\nTotal weight (sum of Wi): {total_W:.6f}\")\n",
    "print(\"HPI calculated successfully!\")"
   ]
  },
  {
   "cell_type": "code",
   "execution_count": 23,
   "id": "86575eda",
   "metadata": {},
   "outputs": [
    {
     "name": "stdout",
     "output_type": "stream",
     "text": [
      "Sample classification completed!\n"
     ]
    }
   ],
   "source": [
    "df[\"Classification\"] = np.where(df[\"HPI\"] <= 100, \n",
    "                               \"Suitable for consumption\", \n",
    "                               \"Unsuitable for consumption\")\n",
    "\n",
    "print(\"Sample classification completed!\")"
   ]
  },
  {
   "cell_type": "code",
   "execution_count": 24,
   "id": "b662a47f",
   "metadata": {},
   "outputs": [
    {
     "name": "stdout",
     "output_type": "stream",
     "text": [
      "\n",
      "=== HPI Results (first 10 rows) ===\n",
      "   Sample ID          HPI              Classification\n",
      "0          1    51.385144    Suitable for consumption\n",
      "1          2   283.429276  Unsuitable for consumption\n",
      "2          3    93.676250    Suitable for consumption\n",
      "3          4   170.904396  Unsuitable for consumption\n",
      "4          5   426.379490  Unsuitable for consumption\n",
      "5          6    36.420698    Suitable for consumption\n",
      "6          7  1760.572362  Unsuitable for consumption\n",
      "7          8   301.921970  Unsuitable for consumption\n",
      "8          9   398.905908  Unsuitable for consumption\n",
      "9         10    -9.499037    Suitable for consumption\n",
      "\n",
      "=== HPI Summary Statistics ===\n",
      "count      42.000000\n",
      "mean      227.035943\n",
      "std       308.924292\n",
      "min       -13.680575\n",
      "25%        51.960385\n",
      "50%       138.370347\n",
      "75%       287.597303\n",
      "max      1760.572362\n",
      "Name: HPI, dtype: float64\n",
      "\n",
      "=== Classification Summary ===\n",
      "Classification\n",
      "Unsuitable for consumption    25\n",
      "Suitable for consumption      17\n",
      "Name: count, dtype: int64\n"
     ]
    }
   ],
   "source": [
    "# Display the first few rows\n",
    "print(\"\\n=== HPI Results (first 10 rows) ===\")\n",
    "result_columns = [\"Sample ID\", \"HPI\", \"Classification\"]\n",
    "print(df[result_columns].head(10))\n",
    "\n",
    "# Get summary statistics\n",
    "print(\"\\n=== HPI Summary Statistics ===\")\n",
    "print(df[\"HPI\"].describe())\n",
    "\n",
    "# Count classifications\n",
    "print(\"\\n=== Classification Summary ===\")\n",
    "print(df[\"Classification\"].value_counts())"
   ]
  },
  {
   "cell_type": "code",
   "execution_count": 25,
   "id": "62e04110",
   "metadata": {},
   "outputs": [
    {
     "name": "stdout",
     "output_type": "stream",
     "text": [
      "\n",
      "Results saved to Tamarind_HPI_Results.xlsx\n"
     ]
    }
   ],
   "source": [
    "# Export the final table with HPI and Classification to Excel\n",
    "output_filename = \"Tamarind_HPI_Results.xlsx\"\n",
    "df.to_excel(output_filename, index=False)\n",
    "print(f\"\\nResults saved to {output_filename}\")"
   ]
  },
  {
   "cell_type": "code",
   "execution_count": 26,
   "id": "6b068ba4",
   "metadata": {},
   "outputs": [
    {
     "data": {
      "text/plain": [
       "<Figure size 1200x600 with 0 Axes>"
      ]
     },
     "metadata": {},
     "output_type": "display_data"
    },
    {
     "data": {
      "image/png": "[encoded data removed]",
      "text/plain": [
       "<Figure size 1200x600 with 1 Axes>"
      ]
     },
     "metadata": {},
     "output_type": "display_data"
    }
   ],
   "source": [
    "# Plot a bar chart of HPI by sample\n",
    "plt.figure(figsize=(12, 6))\n",
    "df.plot.bar(x=\"Sample ID\", y=\"HPI\", figsize=(12, 6), color='skyblue', edgecolor='black')\n",
    "plt.axhline(100, color=\"red\", linestyle=\"--\", linewidth=2, label=\"HPI Threshold (100)\")\n",
    "plt.title(\"Heavy Metal Pollution Index (HPI) by Sample\", fontsize=14, fontweight='bold')\n",
    "plt.xlabel(\"Sample ID\", fontsize=12)\n",
    "plt.ylabel(\"HPI Value\", fontsize=12)\n",
    "plt.legend()\n",
    "plt.grid(axis='y', alpha=0.3)\n",
    "plt.xticks(rotation=45)\n",
    "plt.tight_layout()\n",
    "plt.show()"
   ]
  },
  {
   "cell_type": "code",
   "execution_count": 27,
   "id": "b9787bd3",
   "metadata": {},
   "outputs": [
    {
     "data": {
      "image/png": "[encoded data removed]",
      "text/plain": [
       "<Figure size 1000x600 with 1 Axes>"
      ]
     },
     "metadata": {},
     "output_type": "display_data"
    },
    {
     "name": "stdout",
     "output_type": "stream",
     "text": [
      "\n",
      "HPI Analysis completed successfully!\n",
      "Metals included in analysis: Mn, Fe, Co, Cu, Zn, As, Hg, Ni, Cd, Pb, Cr, Al\n",
      "Total samples analyzed: 42\n",
      "Average HPI: 227.04\n",
      "Samples suitable for consumption: 17\n",
      "Samples unsuitable for consumption: 25\n"
     ]
    }
   ],
   "source": [
    "# Additional visualization: HPI distribution\n",
    "plt.figure(figsize=(10, 6))\n",
    "plt.hist(df[\"HPI\"], bins=20, edgecolor='black', alpha=0.7, color='lightgreen')\n",
    "plt.axvline(100, color=\"red\", linestyle=\"--\", linewidth=2, label=\"HPI Threshold (100)\")\n",
    "plt.title(\"Distribution of HPI Values\", fontsize=14, fontweight='bold')\n",
    "plt.xlabel(\"HPI Value\", fontsize=12)\n",
    "plt.ylabel(\"Frequency\", fontsize=12)\n",
    "plt.legend()\n",
    "plt.grid(axis='y', alpha=0.3)\n",
    "plt.tight_layout()\n",
    "plt.show()\n",
    "\n",
    "print(f\"\\nHPI Analysis completed successfully!\")\n",
    "print(f\"Metals included in analysis: {', '.join(available_metals)}\")\n",
    "print(f\"Total samples analyzed: {len(df)}\")\n",
    "print(f\"Average HPI: {df['HPI'].mean():.2f}\")\n",
    "print(f\"Samples suitable for consumption: {sum(df['Classification'] == 'Suitable for consumption')}\")\n",
    "print(f\"Samples unsuitable for consumption: {sum(df['Classification'] == 'Unsuitable for consumption')}\")\n"
   ]
  }
 ],
 "metadata": {
  "kernelspec": {
   "display_name": ".venv",
   "language": "python",
   "name": "python3"
  },
  "language_info": {
   "codemirror_mode": {
    "name": "ipython",
    "version": 3
   },
   "file_extension": ".py",
   "mimetype": "text/x-python",
   "name": "python",
   "nbconvert_exporter": "python",
   "pygments_lexer": "ipython3",
   "version": "3.10.11"
  }
 },
 "nbformat": 4,
 "nbformat_minor": 5
}
